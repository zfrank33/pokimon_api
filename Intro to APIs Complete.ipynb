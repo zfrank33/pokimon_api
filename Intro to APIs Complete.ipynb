{
 "cells": [
  {
   "cell_type": "markdown",
   "id": "7196054f",
   "metadata": {},
   "source": [
    "# Working with APIs"
   ]
  },
  {
   "cell_type": "markdown",
   "id": "0547b71e",
   "metadata": {},
   "source": [
    "API stands for Application programming interface<br>\n",
    "APIs are a way for applications to talk to eachother<br>\n",
    "In python we use the requests package to handle the connection<br>\n",
    "<small><strong>Note: It is requests with an s not request(this is a different package)</strong></small><br>\n",
    "Most API's communicate with data in the form of JSON<br>\n",
    "JSON stands for JavaScript Object Notation"
   ]
  },
  {
   "cell_type": "code",
   "execution_count": 3,
   "id": "4db9d154",
   "metadata": {},
   "outputs": [],
   "source": [
    "#import the packages we need:\n",
    "import pip._vendor.requests\n"
   ]
  },
  {
   "cell_type": "markdown",
   "id": "e8c2ce51",
   "metadata": {},
   "source": [
    "We will be connecting to the Ergast F1 Racer API today:\n",
    "http://ergast.com/mrd/\n",
    "\n",
    "to view JSON data nicely in the Chrome browser install the extension JSONview"
   ]
  },
  {
   "cell_type": "code",
   "execution_count": 6,
   "id": "52c440c6",
   "metadata": {},
   "outputs": [],
   "source": [
    "import pip._vendor.requests as requests\n",
    "\n"
   ]
  },
  {
   "cell_type": "code",
   "execution_count": 8,
   "id": "f60c1b4a",
   "metadata": {},
   "outputs": [],
   "source": [
    "url = \"http://ergast.com/api/f1/2008/5/driverStandings.json\""
   ]
  },
  {
   "cell_type": "code",
   "execution_count": 9,
   "id": "7b63a204",
   "metadata": {},
   "outputs": [
    {
     "name": "stdout",
     "output_type": "stream",
     "text": [
      "<Response [200]>\n"
     ]
    }
   ],
   "source": [
    "#response object\n",
    "response = requests.get(url)\n",
    "print(response)"
   ]
  },
  {
   "cell_type": "code",
   "execution_count": 7,
   "id": "c6d1fdaf",
   "metadata": {},
   "outputs": [
    {
     "data": {
      "text/plain": [
       "True"
      ]
     },
     "execution_count": 7,
     "metadata": {},
     "output_type": "execute_result"
    }
   ],
   "source": [
    "#check and make sure we got a successful response from the API\n",
    "response.ok"
   ]
  },
  {
   "cell_type": "code",
   "execution_count": null,
   "id": "ed4d3256",
   "metadata": {},
   "outputs": [],
   "source": [
    "#view the response as a JSON\n",
    "print(type(response))\n",
    "response.json()"
   ]
  },
  {
   "cell_type": "code",
   "execution_count": 9,
   "id": "92e6cd2c",
   "metadata": {},
   "outputs": [
    {
     "data": {
      "text/plain": [
       "dict"
      ]
     },
     "execution_count": 9,
     "metadata": {},
     "output_type": "execute_result"
    }
   ],
   "source": [
    "type(response.json())"
   ]
  },
  {
   "cell_type": "code",
   "execution_count": null,
   "id": "f074dfcf",
   "metadata": {},
   "outputs": [],
   "source": [
    "# We only want the Driver Standings\n",
    "data = response.json()[\"MRData\"][\"StandingsTable\"][\"StandingsLists\"][0][\"DriverStandings\"]\n",
    "MRData:"
   ]
  },
  {
   "cell_type": "code",
   "execution_count": 11,
   "id": "d3794c75",
   "metadata": {},
   "outputs": [
    {
     "data": {
      "text/plain": [
       "list"
      ]
     },
     "execution_count": 11,
     "metadata": {},
     "output_type": "execute_result"
    }
   ],
   "source": [
    "type(data)"
   ]
  },
  {
   "cell_type": "code",
   "execution_count": null,
   "id": "be46a950",
   "metadata": {},
   "outputs": [],
   "source": [
    "def get_racer_info(data):\n",
    "    new_data=[]\n",
    "    for racer in data:\n",
    "        racer_dict={}\n",
    "        racer_name = f\"{racer['Driver']['givenName']} {racer['Driver']['familyName']}\"\n",
    "        \n",
    "        racer_dict[racer_name]={\n",
    "            c,\n",
    "            'last_name':racer['Driver']['familyName'],\n",
    "            'position':racer['position'],\n",
    "            'wins':racer['wins'],\n",
    "            'DOB':racer['Driver']['dateOfBirth'],\n",
    "            'nationality':racer['Driver']['nationality'],\n",
    "            'contructor':racer['Constructors'][0]['name']\n",
    "        }\n",
    "        new_data.append(racer_dict)\n",
    "    return new_data\n",
    "\n",
    "get_racer_info(data)"
   ]
  },
  {
   "cell_type": "code",
   "execution_count": 17,
   "id": "3740c752",
   "metadata": {},
   "outputs": [
    {
     "data": {
      "text/plain": [
       "'We had an error loading your data likely the year or round is not in the database'"
      ]
     },
     "execution_count": 17,
     "metadata": {},
     "output_type": "execute_result"
    }
   ],
   "source": [
    "def get_driver_info_by_year_and_round(year,r):\n",
    "    url = f\"http://ergast.com/api/f1/{year}/{r}/driverStandings.json\"\n",
    "    response = requests.get(url)\n",
    "#     if not response.ok:\n",
    "    if not response.json()[\"MRData\"][\"StandingsTable\"][\"StandingsLists\"]:\n",
    "        return \"We had an error loading your data likely the year or round is not in the database\"\n",
    "    data = response.json()[\"MRData\"][\"StandingsTable\"][\"StandingsLists\"][0][\"DriverStandings\"]\n",
    "    return get_racer_info(data)\n",
    "\n",
    "get_driver_info_by_year_and_round(2022,4)"
   ]
  },
  {
   "cell_type": "markdown",
   "id": "6d546014",
   "metadata": {},
   "source": [
    "# <strong>Homework</strong>\n",
    "check out this Pokemon API https://pokeapi.co/\n",
    "Use the requests package to connect to this API and get and store data for 5 different pokemon.\n",
    "Get the pokemons: name, atleast one ability's name, base_experience, and the URL for its sprite (an image that shows up on screen) for the 'front_shiny'"
   ]
  },
  {
   "cell_type": "code",
   "execution_count": 1,
   "id": "5a9081e3",
   "metadata": {},
   "outputs": [
    {
     "name": "stdout",
     "output_type": "stream",
     "text": [
      "Name: bulbasaur\n",
      "Ability: overgrow\n",
      "Base Experience: 64\n",
      "Front Shiny URL: https://raw.githubusercontent.com/PokeAPI/sprites/master/sprites/pokemon/shiny/1.png\n",
      "Base HP: 45\n",
      "Base Attack: 65\n",
      "Base Defense: 65\n",
      "\n",
      "Name: charmander\n",
      "Ability: blaze\n",
      "Base Experience: 62\n",
      "Front Shiny URL: https://raw.githubusercontent.com/PokeAPI/sprites/master/sprites/pokemon/shiny/4.png\n",
      "Base HP: 65\n",
      "Base Attack: 50\n",
      "Base Defense: 60\n",
      "\n",
      "Name: squirtle\n",
      "Ability: torrent\n",
      "Base Experience: 63\n",
      "Front Shiny URL: https://raw.githubusercontent.com/PokeAPI/sprites/master/sprites/pokemon/shiny/7.png\n",
      "Base HP: 43\n",
      "Base Attack: 64\n",
      "Base Defense: 50\n",
      "\n",
      "Name: pikachu\n",
      "Ability: static\n",
      "Base Experience: 112\n",
      "Front Shiny URL: https://raw.githubusercontent.com/PokeAPI/sprites/master/sprites/pokemon/shiny/25.png\n",
      "Base HP: 90\n",
      "Base Attack: 50\n",
      "Base Defense: 50\n",
      "\n",
      "Name: jigglypuff\n",
      "Ability: cute-charm\n",
      "Base Experience: 95\n",
      "Front Shiny URL: https://raw.githubusercontent.com/PokeAPI/sprites/master/sprites/pokemon/shiny/39.png\n",
      "Base HP: 20\n",
      "Base Attack: 25\n",
      "Base Defense: 45\n",
      "\n"
     ]
    }
   ],
   "source": [
    "import requests\n",
    "\n",
    "# List of Pokemon to retrieve data for\n",
    "pokemon_list = [\"bulbasaur\", \"charmander\", \"squirtle\", \"pikachu\", \"jigglypuff\"]\n",
    "\n",
    "# Iterate through the list of Pokemon\n",
    "for pokemon in pokemon_list:\n",
    "    # Send a GET request to the API for the current Pokemon\n",
    "    response = requests.get(f\"https://pokeapi.co/api/v2/pokemon/{pokemon}\")\n",
    "    # Retrieve the JSON data from the response\n",
    "    data = response.json()\n",
    "    # Extract the name, at least one ability's name, base experience, and the URL for the front_shiny sprite\n",
    "    name = data[\"name\"]\n",
    "    ability_name = data[\"abilities\"][0][\"ability\"][\"name\"]\n",
    "    base_experience = data[\"base_experience\"]\n",
    "    front_shiny_url = data[\"sprites\"][\"front_shiny\"]\n",
    "    base_hp = data[\"stats\"][5][\"base_stat\"]\n",
    "    base_attack = data[\"stats\"][4][\"base_stat\"]\n",
    "    base_defense = data[\"stats\"][3][\"base_stat\"]\n",
    "    # Print the extracted data\n",
    "    print(f\"Name: {name}\\nAbility: {ability_name}\\nBase Experience: {base_experience}\\nFront Shiny URL: {front_shiny_url}\\nBase HP: {base_hp}\\nBase Attack: {base_attack}\\nBase Defense: {base_defense}\\n\")\n"
   ]
  }
 ],
 "metadata": {
  "kernelspec": {
   "display_name": "Python 3 (ipykernel)",
   "language": "python",
   "name": "python3"
  },
  "language_info": {
   "codemirror_mode": {
    "name": "ipython",
    "version": 3
   },
   "file_extension": ".py",
   "mimetype": "text/x-python",
   "name": "python",
   "nbconvert_exporter": "python",
   "pygments_lexer": "ipython3",
   "version": "3.9.13"
  },
  "vscode": {
   "interpreter": {
    "hash": "c89dac2000cd39b6c6afdbb40384525553e908a214fa5e3caa43ad6708c415f4"
   }
  }
 },
 "nbformat": 4,
 "nbformat_minor": 5
}
